{
 "cells": [
  {
   "cell_type": "markdown",
   "id": "c4473ee0-5aa0-4378-9b9e-2f5e2641fd3a",
   "metadata": {},
   "source": [
    "# Spark with Parquet File Reads on S3"
   ]
  },
  {
   "cell_type": "markdown",
   "id": "8eb7aa1c-054b-48c4-803d-d5f760e2758e",
   "metadata": {},
   "source": [
    "## Prerequisites"
   ]
  },
  {
   "cell_type": "markdown",
   "id": "d1e0a1f2-185e-4c3b-90fa-0f6fe0889576",
   "metadata": {},
   "source": [
    "#### 1. Make sure maven is configured with java 11\n",
    "1. Hadoop 3.x: Requires Java 8 or Java 11, so point to java 11 version in `PATH`\n",
    "2. Check `mvn --version`\n",
    "3. If not configured, setup maven https://phoenixnap.com/kb/install-maven-windows\n",
    "\n",
    "#### 2. Add `winutils.exe` to hadoop home\n",
    "1. Create a directory for hadoop home (ex: `C:\\hadoop`)\n",
    "2. Download `winutils.exe`, a popular repository having this is https://github.com/steveloughran/winutils,   \n",
    "   File link: https://github.com/steveloughran/winutils/blob/master/hadoop-3.0.0/bin/winutils.exe\n",
    "4. Create a folder in hadoop home named `bin` and add `winutils.exe` to it\n",
    "5. Add environment variable, `HADOOP_HOME` (`C:\\hadoop`)\n",
    "6. Add  `HADOOP_HOME\\bin` to `PATH` (`%HADOOP_HOME%\\bin`)\n",
    "\n",
    "#### 3. Add below AWS related values to environment variables\n",
    "\n",
    "These can be taken from https://sysco-sso.awsapps.com/start/#\n",
    "\n",
    "1. `AWS_REGION`\n",
    "2. `AWS_ACCESS_KEY_ID`\n",
    "3. `AWS_SECRET_ACCESS_KEY`\n",
    "4. `AWS_SESSION_TOKEN`"
   ]
  },
  {
   "cell_type": "markdown",
   "id": "c5fa7145-e938-4eb6-b21b-6327abb55e35",
   "metadata": {},
   "source": [
    "## Create Spark Session"
   ]
  },
  {
   "cell_type": "code",
   "execution_count": 2,
   "id": "ea0ccb63-a598-42f7-a0fc-a3a9033bea41",
   "metadata": {
    "scrolled": true
   },
   "outputs": [],
   "source": [
    "ICEBERG_S3_WAREHOUSE = \"s3://cx-unique-purchase-data-non-prod/dev/\"\n",
    "AWS_REGION = \"us-east-1\""
   ]
  },
  {
   "cell_type": "code",
   "execution_count": 3,
   "id": "38b8d90e-2005-4f88-8c81-ed61a969e0f7",
   "metadata": {},
   "outputs": [
    {
     "name": "stdout",
     "output_type": "stream",
     "text": [
      "Spark session created in 9.816956281661987 seconds\n"
     ]
    }
   ],
   "source": [
    "from pyspark.sql import SparkSession\n",
    "import time\n",
    "\n",
    "start_time = time.time()\n",
    "\n",
    "spark = (\n",
    "    SparkSession.builder \n",
    "    .appName('Spark Iceberg Example')\n",
    "    \n",
    "    .config(\"spark.network.timeout\", '10000s')\n",
    "    .config('spark.sql.autoBroadcastJoinThreshold', -1)\n",
    "    .config('spark.shuffle.consolidateFiles', True)\n",
    "    .config('spark.dynamicAllocation.enabled', False)\n",
    "    .config(\"spark.serializer\", 'org.apache.spark.serializer.KryoSerializer')\n",
    "    .config('spark.shuffle.service.enabled', False)\n",
    "    .config('spark.hadoop.fs.s3.impl', 'org.apache.hadoop.fs.s3a.S3AFileSystem')\n",
    "\n",
    "    .config(\"spark.hadoop.fs.s3a.endpoint\", f\"s3.{AWS_REGION}.amazonaws.com\")\n",
    "\n",
    "    .config('spark.jars.packages', \n",
    "            'org.apache.hadoop:hadoop-aws:3.3.4,'\n",
    "            'com.amazonaws:aws-java-sdk-bundle:1.11.901')\n",
    "\n",
    "    .config('spark.partial-progress.enabled', True)\n",
    "    .getOrCreate()\n",
    ")\n",
    "\n",
    "end_time = time.time()\n",
    "\n",
    "print(f\"Spark session created in {end_time - start_time} seconds\")"
   ]
  },
  {
   "cell_type": "markdown",
   "id": "bba1e7e3-bf18-4ba2-a140-e65c15db7941",
   "metadata": {},
   "source": [
    "## Read Parquet File"
   ]
  },
  {
   "cell_type": "code",
   "execution_count": 4,
   "id": "376c44de-0b37-4f0c-9c32-a2c388186e47",
   "metadata": {},
   "outputs": [
    {
     "name": "stdout",
     "output_type": "stream",
     "text": [
      "+-----------+-----------+---------+-------------+---------+--------------------+--------------------+-------+\n",
      "|customer_id|cust_id_int|seller_id|sub_seller_id|list_type|             list_id|          updated_at|opco_id|\n",
      "+-----------+-----------+---------+-------------+---------+--------------------+--------------------+-------+\n",
      "|     000000|          0|     USBL|         USBL|    Block|056_common_cannotbuy|2024-03-12 12:47:...|     56|\n",
      "|     000000|          0|     USBL|         USBL|  Can Buy|          056_canbuy|2024-03-12 12:47:...|     56|\n",
      "|     000006|          6|     USBL|         USBL|    Block|056_common_cannotbuy|2024-09-24 23:35:...|     56|\n",
      "|     000008|          8|     USBL|         USBL|  Can Buy|          056_canbuy|2024-09-24 23:35:...|     56|\n",
      "|     000009|          9|     USBL|         USBL|    Block|056_common_cannotbuy|2024-03-12 12:47:...|     56|\n",
      "|     000009|          9|     USBL|         USBL|  Can Buy|          056_canbuy|2024-03-12 12:47:...|     56|\n",
      "|     000016|         16|     USBL|         USBL|  Can Buy|          056_canbuy|2024-03-12 12:47:...|     56|\n",
      "|     000017|         17|     USBL|         USBL|    Block|056_000017_cannotbuy|2024-03-12 12:47:...|     56|\n",
      "|     000017|         17|     USBL|         USBL|    Block|056_common_cannotbuy|2024-03-12 12:47:...|     56|\n",
      "|     000018|         18|     USBL|         USBL|  Can Buy|          056_canbuy|2024-03-12 12:47:...|     56|\n",
      "|     000019|         19|     USBL|         USBL|    Block|056_common_cannotbuy|2024-03-12 12:47:...|     56|\n",
      "|     000019|         19|     USBL|         USBL|  Can Buy|          056_canbuy|2024-03-12 12:47:...|     56|\n",
      "|     000020|         20|     USBL|         USBL|    Block|056_000020_cannotbuy|2024-09-24 23:35:...|     56|\n",
      "|     000025|         25|     USBL|         USBL|    Block|056_common_cannotbuy|2024-03-12 12:47:...|     56|\n",
      "|     000026|         26|     USBL|         USBL|    Block|056_000026_cannotbuy|2024-03-12 12:47:...|     56|\n",
      "|     000026|         26|     USBL|         USBL|    Block|056_common_cannotbuy|2024-03-12 12:47:...|     56|\n",
      "|     000029|         29|     USBL|         USBL|    Block|056_common_cannotbuy|2024-03-12 12:47:...|     56|\n",
      "|     000029|         29|     USBL|         USBL|  Can Buy|          056_canbuy|2024-03-12 12:47:...|     56|\n",
      "|     000032|         32|     USBL|         USBL|  Can Buy|          056_canbuy|2024-09-24 23:35:...|     56|\n",
      "|     000040|         40|     USBL|         USBL|    Block|056_000040_cannotbuy|2024-03-12 12:47:...|     56|\n",
      "+-----------+-----------+---------+-------------+---------+--------------------+--------------------+-------+\n",
      "only showing top 20 rows\n",
      "\n"
     ]
    }
   ],
   "source": [
    "s3_parquet_path = \"s3://cx-staging-glue-catalog/dev/sysco_src_restrictions_product_attributes_staging.parquet\"\n",
    "parquet_df = spark.read.parquet(s3_parquet_path)\n",
    "parquet_df.show()"
   ]
  }
 ],
 "metadata": {
  "kernelspec": {
   "display_name": "Python (uph_rnd_env)",
   "language": "python",
   "name": "uph_rnd_env"
  },
  "language_info": {
   "codemirror_mode": {
    "name": "ipython",
    "version": 3
   },
   "file_extension": ".py",
   "mimetype": "text/x-python",
   "name": "python",
   "nbconvert_exporter": "python",
   "pygments_lexer": "ipython3",
   "version": "3.9.13"
  }
 },
 "nbformat": 4,
 "nbformat_minor": 5
}
